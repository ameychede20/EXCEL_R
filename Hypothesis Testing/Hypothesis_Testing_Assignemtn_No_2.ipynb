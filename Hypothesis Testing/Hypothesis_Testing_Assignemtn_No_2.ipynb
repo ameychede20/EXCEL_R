{
 "cells": [
  {
   "cell_type": "code",
   "execution_count": 3,
   "id": "529d4f20-770b-44c3-9a70-bb794833b5fb",
   "metadata": {},
   "outputs": [
    {
     "name": "stdout",
     "output_type": "stream",
     "text": [
      "Calculated Theoretical Mean Weekly Cost: $4000\n",
      "Calculated Test Statistic: -38.00\n",
      "Critical Value: 1.64\n",
      "Decision: fail to reject the null hypothesis\n",
      "Conclusion: There is not enough evidence to support the claim that the weekly operating costs are higher than the model suggests.\n"
     ]
    }
   ],
   "source": [
    "import scipy.stats as stats\n",
    "\n",
    "# Constants\n",
    "fixed_cost = 1000  # $1000 fixed costs\n",
    "cost_per_unit = 5  # $5 per unit\n",
    "units_mean = 600   # Mean units produced per week\n",
    "units_std_dev = 25 # Standard deviation of units produced\n",
    "sample_mean = 3050 # Sample mean weekly cost\n",
    "sample_size = 25   # Number of samples (restaurants)\n",
    "alpha = 0.05       # Significance level for a one-sided test\n",
    "\n",
    "# Calculating the theoretical mean weekly cost\n",
    "theoretical_mean = fixed_cost + cost_per_unit * units_mean\n",
    "\n",
    "# Calculating the standard error of the mean\n",
    "std_error = (cost_per_unit * units_std_dev) / (sample_size ** 0.5)\n",
    "\n",
    "# Calculating the test statistic\n",
    "test_statistic = (sample_mean - theoretical_mean) / std_error\n",
    "\n",
    "# Calculating the critical value for a one-sided test\n",
    "critical_value = stats.norm.ppf(1 - alpha)\n",
    "\n",
    "# Decision: Compare the test statistic to the critical value\n",
    "decision = \"reject\" if test_statistic > critical_value else \"fail to reject\"\n",
    "\n",
    "# Conclusion based on the decision\n",
    "if decision == \"reject\":\n",
    "    conclusion = \"There is strong evidence to support the claim that the weekly operating costs are higher than the model suggests.\"\n",
    "else:\n",
    "    conclusion = \"There is not enough evidence to support the claim that the weekly operating costs are higher than the model suggests.\"\n",
    "\n",
    "# Output results\n",
    "print(f\"Calculated Theoretical Mean Weekly Cost: ${theoretical_mean}\")\n",
    "print(f\"Calculated Test Statistic: {test_statistic:.2f}\")\n",
    "print(f\"Critical Value: {critical_value:.2f}\")\n",
    "print(f\"Decision: {decision} the null hypothesis\")\n",
    "print(\"Conclusion:\", conclusion)\n"
   ]
  },
  {
   "cell_type": "code",
   "execution_count": null,
   "id": "edbd8b38-f09f-4421-99ba-7ab86cae34b1",
   "metadata": {},
   "outputs": [],
   "source": []
  }
 ],
 "metadata": {
  "kernelspec": {
   "display_name": "Python 3 (ipykernel)",
   "language": "python",
   "name": "python3"
  },
  "language_info": {
   "codemirror_mode": {
    "name": "ipython",
    "version": 3
   },
   "file_extension": ".py",
   "mimetype": "text/x-python",
   "name": "python",
   "nbconvert_exporter": "python",
   "pygments_lexer": "ipython3",
   "version": "3.11.7"
  }
 },
 "nbformat": 4,
 "nbformat_minor": 5
}
