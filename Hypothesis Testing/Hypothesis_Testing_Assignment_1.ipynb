{
 "cells": [
  {
   "cell_type": "code",
   "execution_count": 3,
   "id": "5a9061a5-71f3-4678-a087-8697163629db",
   "metadata": {},
   "outputs": [
    {
     "name": "stdout",
     "output_type": "stream",
     "text": [
      "Chi-Square Statistic: 5.638227513227513\n",
      "Degrees of Freedom: 4\n",
      "P-value: 0.22784371130697179\n",
      "Expected Frequencies:\n",
      "[[ 48.  72.]\n",
      " [ 72. 108.]\n",
      " [ 60.  90.]\n",
      " [ 32.  48.]\n",
      " [ 28.  42.]]\n",
      "Critical Value: 9.487729036781154\n",
      "Fail to reject the null hypothesis - There is no significant association between device type and customer satisfaction.\n"
     ]
    }
   ],
   "source": [
    "import numpy as np\n",
    "from scipy.stats import chi2_contingency, chi2\n",
    "\n",
    "# Chi-Square Test of Independence\n",
    "\n",
    "\n",
    "# Data Description:\n",
    "# Mizzare Corporation has collected data to explore if there's a significant association\n",
    "# between the type of smart home device purchased (Smart Thermostats vs. Smart Lights)\n",
    "# and the customer satisfaction level.\n",
    "\n",
    "# Hypotheses:\n",
    "# Null Hypothesis (H0): There is no association between the type of device and customer satisfaction.\n",
    "# Alternative Hypothesis (H1): There is an association between the type of device and customer satisfaction.\n",
    "\n",
    "# Data Setup:\n",
    "# The following matrix represents the observed frequencies of customer satisfaction levels\n",
    "# for two types of devices: Smart Thermostats and Smart Lights.\n",
    "data = np.array([\n",
    "    [50, 70],  # Very Satisfied\n",
    "    [80, 100], # Satisfied\n",
    "    [60, 90],  # Neutral\n",
    "    [30, 50],  # Unsatisfied\n",
    "    [20, 50]   # Very Unsatisfied\n",
    "])\n",
    "\n",
    "# Performing the Chi-Square test\n",
    "chi2_stat, p_val, dof, expected = chi2_contingency(data)\n",
    "\n",
    "# Results:\n",
    "print(\"Chi-Square Statistic:\", chi2_stat)\n",
    "print(\"Degrees of Freedom:\", dof)\n",
    "print(\"P-value:\", p_val)\n",
    "print(\"Expected Frequencies:\")\n",
    "print(expected)\n",
    "\n",
    "# Critical Value Calculation:\n",
    "# Using a significance level (alpha) of 0.05\n",
    "alpha = 0.05\n",
    "critical_value = chi2.ppf(1 - alpha, dof)\n",
    "print(\"Critical Value:\", critical_value)\n",
    "\n",
    "# Decision Making:\n",
    "if chi2_stat >= critical_value:\n",
    "    print(\"Reject the null hypothesis - There is a significant association between device type and customer satisfaction.\")\n",
    "else:\n",
    "    print(\"Fail to reject the null hypothesis - There is no significant association between device type and customer satisfaction.\")\n",
    "\n"
   ]
  },
  {
   "cell_type": "markdown",
   "id": "ea59b72b-a534-4099-969e-1068fbc8350f",
   "metadata": {},
   "source": [
    " Conclusion:\n",
    " Based on the Chi-Square statistic of 5.638 and a critical value of 9.487 for 4 degrees of freedom,\n",
    " we fail to reject the null hypothesis at a 5% significance level. The p-value of 0.2278 also indicates\n",
    " that the observed difference in satisfaction could reasonably occur by chance under the null hypothesis.\n",
    " This analysis concludes that there is no significant association between the type of smart home device purchased\n",
    " and the levels of customer satisfaction."
   ]
  }
 ],
 "metadata": {
  "kernelspec": {
   "display_name": "Python 3 (ipykernel)",
   "language": "python",
   "name": "python3"
  },
  "language_info": {
   "codemirror_mode": {
    "name": "ipython",
    "version": 3
   },
   "file_extension": ".py",
   "mimetype": "text/x-python",
   "name": "python",
   "nbconvert_exporter": "python",
   "pygments_lexer": "ipython3",
   "version": "3.11.7"
  }
 },
 "nbformat": 4,
 "nbformat_minor": 5
}
