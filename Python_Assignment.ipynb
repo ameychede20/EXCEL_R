{
  "nbformat": 4,
  "nbformat_minor": 0,
  "metadata": {
    "colab": {
      "provenance": [],
      "authorship_tag": "ABX9TyNb9XexS9tuP7BYPaSwKJVW",
      "include_colab_link": true
    },
    "kernelspec": {
      "name": "python3",
      "display_name": "Python 3"
    },
    "language_info": {
      "name": "python"
    }
  },
  "cells": [
    {
      "cell_type": "markdown",
      "metadata": {
        "id": "view-in-github",
        "colab_type": "text"
      },
      "source": [
        "<a href=\"https://colab.research.google.com/github/ameychede20/EXCEL_R/blob/main/Python_Assignment.ipynb\" target=\"_parent\"><img src=\"https://colab.research.google.com/assets/colab-badge.svg\" alt=\"Open In Colab\"/></a>"
      ]
    },
    {
      "cell_type": "markdown",
      "source": [
        "Excersice 1: Prime Numbers"
      ],
      "metadata": {
        "id": "3FJH-3A7-xs7"
      }
    },
    {
      "cell_type": "code",
      "source": [
        "def is_prime(num):\n",
        "    \"\"\"Check if a number is prime.\"\"\"\n",
        "    if num <= 1:\n",
        "        return False\n",
        "    for i in range(2, int(num**0.5) + 1):\n",
        "        if num % i == 0:\n",
        "            return False\n",
        "    return True\n",
        "\n",
        "# Example usage:\n",
        "number = 29\n",
        "print(f\"{number} is prime: {is_prime(number)}\")\n"
      ],
      "metadata": {
        "colab": {
          "base_uri": "https://localhost:8080/"
        },
        "id": "EA1f55H0-2dY",
        "outputId": "ff1a7cdf-9855-4a1f-a15a-d01ab4fa5450"
      },
      "execution_count": 1,
      "outputs": [
        {
          "output_type": "stream",
          "name": "stdout",
          "text": [
            "29 is prime: True\n"
          ]
        }
      ]
    },
    {
      "cell_type": "markdown",
      "source": [
        "Excersice 2 : Product of Random Numbers"
      ],
      "metadata": {
        "id": "xWE31tln_AgJ"
      }
    },
    {
      "cell_type": "code",
      "source": [
        "import random\n",
        "\n",
        "def check_product():\n",
        "    \"\"\"Generates two random numbers and checks the user's answer to their product.\"\"\"\n",
        "    num1 = random.randint(1, 100)\n",
        "    num2 = random.randint(1, 100)\n",
        "    product = num1 * num2\n",
        "    user_product = int(input(f\"What is the product of {num1} and {num2}? \"))\n",
        "    if user_product == product:\n",
        "        print(\"Correct!\")\n",
        "    else:\n",
        "        print(\"Incorrect, the correct answer is:\", product)\n",
        "\n",
        "# Example usage:\n",
        "check_product()\n"
      ],
      "metadata": {
        "colab": {
          "base_uri": "https://localhost:8080/"
        },
        "id": "4y8XRMkc_IG3",
        "outputId": "0b55cb26-edf6-46a3-979a-039844810574"
      },
      "execution_count": 2,
      "outputs": [
        {
          "output_type": "stream",
          "name": "stdout",
          "text": [
            "What is the product of 43 and 56? 56788\n",
            "Incorrect, the correct answer is: 2408\n"
          ]
        }
      ]
    },
    {
      "cell_type": "markdown",
      "source": [
        " Exercise 3 : Squares of Even/Odd Numbers"
      ],
      "metadata": {
        "id": "HcbrTebf_PO1"
      }
    },
    {
      "cell_type": "code",
      "source": [
        "def print_squares_even(start, end):\n",
        "    \"\"\"Prints squares of even numbers between start and end.\"\"\"\n",
        "    for number in range(start, end + 1):\n",
        "        if number % 2 == 0:\n",
        "            print(f\"The square of {number} is {number**2}\")\n",
        "\n",
        "# Example usage:\n",
        "print_squares_even(100, 200)\n",
        "\n"
      ],
      "metadata": {
        "colab": {
          "base_uri": "https://localhost:8080/"
        },
        "id": "czDhmXOD_WX_",
        "outputId": "942c6e9c-7eb4-4b08-9306-a8421c93dcb7"
      },
      "execution_count": 4,
      "outputs": [
        {
          "output_type": "stream",
          "name": "stdout",
          "text": [
            "The square of 100 is 10000\n",
            "The square of 102 is 10404\n",
            "The square of 104 is 10816\n",
            "The square of 106 is 11236\n",
            "The square of 108 is 11664\n",
            "The square of 110 is 12100\n",
            "The square of 112 is 12544\n",
            "The square of 114 is 12996\n",
            "The square of 116 is 13456\n",
            "The square of 118 is 13924\n",
            "The square of 120 is 14400\n",
            "The square of 122 is 14884\n",
            "The square of 124 is 15376\n",
            "The square of 126 is 15876\n",
            "The square of 128 is 16384\n",
            "The square of 130 is 16900\n",
            "The square of 132 is 17424\n",
            "The square of 134 is 17956\n",
            "The square of 136 is 18496\n",
            "The square of 138 is 19044\n",
            "The square of 140 is 19600\n",
            "The square of 142 is 20164\n",
            "The square of 144 is 20736\n",
            "The square of 146 is 21316\n",
            "The square of 148 is 21904\n",
            "The square of 150 is 22500\n",
            "The square of 152 is 23104\n",
            "The square of 154 is 23716\n",
            "The square of 156 is 24336\n",
            "The square of 158 is 24964\n",
            "The square of 160 is 25600\n",
            "The square of 162 is 26244\n",
            "The square of 164 is 26896\n",
            "The square of 166 is 27556\n",
            "The square of 168 is 28224\n",
            "The square of 170 is 28900\n",
            "The square of 172 is 29584\n",
            "The square of 174 is 30276\n",
            "The square of 176 is 30976\n",
            "The square of 178 is 31684\n",
            "The square of 180 is 32400\n",
            "The square of 182 is 33124\n",
            "The square of 184 is 33856\n",
            "The square of 186 is 34596\n",
            "The square of 188 is 35344\n",
            "The square of 190 is 36100\n",
            "The square of 192 is 36864\n",
            "The square of 194 is 37636\n",
            "The square of 196 is 38416\n",
            "The square of 198 is 39204\n",
            "The square of 200 is 40000\n"
          ]
        }
      ]
    },
    {
      "cell_type": "markdown",
      "source": [
        "Exercise 4 : Word Counter"
      ],
      "metadata": {
        "id": "V-8XX6l9_hRE"
      }
    },
    {
      "cell_type": "code",
      "source": [
        "from collections import Counter\n",
        "\n",
        "def word_count(text):\n",
        "    \"\"\"Counts the number of occurrences of each word in a given text.\"\"\"\n",
        "    words = text.split()\n",
        "    count = Counter(words)\n",
        "    return count\n",
        "\n",
        "# Example usage:\n",
        "input_text = \"This is a sample text. This text will be used to demonstrate the word counter.\"\n",
        "print(word_count(input_text))\n"
      ],
      "metadata": {
        "colab": {
          "base_uri": "https://localhost:8080/"
        },
        "id": "PDN6rVxP_m4S",
        "outputId": "56a835fc-9f54-458e-b8f5-837f373c9e0d"
      },
      "execution_count": 5,
      "outputs": [
        {
          "output_type": "stream",
          "name": "stdout",
          "text": [
            "Counter({'This': 2, 'is': 1, 'a': 1, 'sample': 1, 'text.': 1, 'text': 1, 'will': 1, 'be': 1, 'used': 1, 'to': 1, 'demonstrate': 1, 'the': 1, 'word': 1, 'counter.': 1})\n"
          ]
        }
      ]
    },
    {
      "cell_type": "markdown",
      "source": [
        "Exercise 5 : Check for Palindrome"
      ],
      "metadata": {
        "id": "Ra9A_yhe_p-o"
      }
    },
    {
      "cell_type": "code",
      "source": [
        "def is_palindrome(s):\n",
        "    \"\"\"Returns True if s is a palindrome, ignoring spaces, punctuation, and capitalization.\"\"\"\n",
        "    cleaned = ''.join(c for c in s if c.isalnum()).lower()\n",
        "    return cleaned == cleaned[::-1]\n",
        "\n",
        "# Example usage:\n",
        "input_string = \"racecar\"\n",
        "print(f\"Is '{input_string}' a palindrome? {is_palindrome(input_string)}\")\n"
      ],
      "metadata": {
        "colab": {
          "base_uri": "https://localhost:8080/"
        },
        "id": "Dfwxx-_z_vFk",
        "outputId": "0a9f4a76-5d67-4e33-d5a9-eb24a4efad29"
      },
      "execution_count": 6,
      "outputs": [
        {
          "output_type": "stream",
          "name": "stdout",
          "text": [
            "Is 'racecar' a palindrome? True\n"
          ]
        }
      ]
    }
  ]
}